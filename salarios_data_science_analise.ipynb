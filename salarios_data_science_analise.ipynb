{
  "nbformat": 4,
  "nbformat_minor": 0,
  "metadata": {
    "colab": {
      "provenance": [],
      "mount_file_id": "1wETK0iFw-OH5wIdoENE7UvMA0TcoJAFG",
      "authorship_tag": "ABX9TyPx7rrshusox5gCncSS4Miw",
      "include_colab_link": true
    },
    "kernelspec": {
      "name": "python3",
      "display_name": "Python 3"
    },
    "language_info": {
      "name": "python"
    }
  },
  "cells": [
    {
      "cell_type": "markdown",
      "metadata": {
        "id": "view-in-github",
        "colab_type": "text"
      },
      "source": [
        "<a href=\"https://colab.research.google.com/github/cynttia/salarios-data-science-analise/blob/main/salarios_data_science_analise.ipynb\" target=\"_parent\"><img src=\"https://colab.research.google.com/assets/colab-badge.svg\" alt=\"Open In Colab\"/></a>"
      ]
    },
    {
      "cell_type": "markdown",
      "source": [
        "# **it's me, hi!**\n",
        "\n"
      ],
      "metadata": {
        "id": "EXhKmslk5u7P"
      }
    },
    {
      "cell_type": "markdown",
      "source": [
        "![99URL](https://media.tenor.com/EQn9ugqWARsAAAAC/brooklyn-nine.gif)"
      ],
      "metadata": {
        "id": "a0lDi0jRB-Zb"
      }
    },
    {
      "cell_type": "markdown",
      "source": [
        "Este notebook terá como foco principal examinar a remuneração dos profissionais da área de Ciência de Dados. Em People Analytics, a coleta desses dados é muito comum e super relevante para realizar análises de massa salarial, desempenho (mérito e promoções) e também otimizar a tomada de decisões na área de Recursos Humanos."
      ],
      "metadata": {
        "id": "8lwcTvci6lbB"
      }
    },
    {
      "cell_type": "markdown",
      "source": [
        "O dataset utilizado para a análise exploratória se encontra no Kaggle: https://www.kaggle.com/datasets/ruchi798/data-science-job-salaries?resource=download\n",
        "\n",
        "\n",
        "\n",
        "\n",
        "---\n",
        "\n"
      ],
      "metadata": {
        "id": "rrFlmWOmC0R8"
      }
    },
    {
      "cell_type": "markdown",
      "source": [
        "# Importando as bibliotecas e a base para iniciarmos as análises"
      ],
      "metadata": {
        "id": "J5Eop_sBFy_k"
      }
    },
    {
      "cell_type": "code",
      "execution_count": null,
      "metadata": {
        "colab": {
          "base_uri": "https://localhost:8080/",
          "height": 250
        },
        "id": "gYxA6FHtSFmp",
        "outputId": "3d514956-9286-4c27-fdaf-341d8de48cb6"
      },
      "outputs": [
        {
          "output_type": "execute_result",
          "data": {
            "text/plain": [
              "   work_year experience_level employment_type                   job_title  \\\n",
              "0       2020               MI              FT              Data Scientist   \n",
              "1       2020               SE              FT  Machine Learning Scientist   \n",
              "2       2020               SE              FT           Big Data Engineer   \n",
              "3       2020               MI              FT        Product Data Analyst   \n",
              "4       2020               SE              FT   Machine Learning Engineer   \n",
              "\n",
              "   salary salary_currency  salary_in_usd employee_residence  remote_ratio  \\\n",
              "0   70000             EUR          79833                 DE             0   \n",
              "1  260000             USD         260000                 JP             0   \n",
              "2   85000             GBP         109024                 GB            50   \n",
              "3   20000             USD          20000                 HN             0   \n",
              "4  150000             USD         150000                 US            50   \n",
              "\n",
              "  company_location company_size  \n",
              "0               DE            L  \n",
              "1               JP            S  \n",
              "2               GB            M  \n",
              "3               HN            S  \n",
              "4               US            L  "
            ],
            "text/html": [
              "\n",
              "  <div id=\"df-e9a95e6c-6df2-4622-a2e3-d1bf2f329672\">\n",
              "    <div class=\"colab-df-container\">\n",
              "      <div>\n",
              "<style scoped>\n",
              "    .dataframe tbody tr th:only-of-type {\n",
              "        vertical-align: middle;\n",
              "    }\n",
              "\n",
              "    .dataframe tbody tr th {\n",
              "        vertical-align: top;\n",
              "    }\n",
              "\n",
              "    .dataframe thead th {\n",
              "        text-align: right;\n",
              "    }\n",
              "</style>\n",
              "<table border=\"1\" class=\"dataframe\">\n",
              "  <thead>\n",
              "    <tr style=\"text-align: right;\">\n",
              "      <th></th>\n",
              "      <th>work_year</th>\n",
              "      <th>experience_level</th>\n",
              "      <th>employment_type</th>\n",
              "      <th>job_title</th>\n",
              "      <th>salary</th>\n",
              "      <th>salary_currency</th>\n",
              "      <th>salary_in_usd</th>\n",
              "      <th>employee_residence</th>\n",
              "      <th>remote_ratio</th>\n",
              "      <th>company_location</th>\n",
              "      <th>company_size</th>\n",
              "    </tr>\n",
              "  </thead>\n",
              "  <tbody>\n",
              "    <tr>\n",
              "      <th>0</th>\n",
              "      <td>2020</td>\n",
              "      <td>MI</td>\n",
              "      <td>FT</td>\n",
              "      <td>Data Scientist</td>\n",
              "      <td>70000</td>\n",
              "      <td>EUR</td>\n",
              "      <td>79833</td>\n",
              "      <td>DE</td>\n",
              "      <td>0</td>\n",
              "      <td>DE</td>\n",
              "      <td>L</td>\n",
              "    </tr>\n",
              "    <tr>\n",
              "      <th>1</th>\n",
              "      <td>2020</td>\n",
              "      <td>SE</td>\n",
              "      <td>FT</td>\n",
              "      <td>Machine Learning Scientist</td>\n",
              "      <td>260000</td>\n",
              "      <td>USD</td>\n",
              "      <td>260000</td>\n",
              "      <td>JP</td>\n",
              "      <td>0</td>\n",
              "      <td>JP</td>\n",
              "      <td>S</td>\n",
              "    </tr>\n",
              "    <tr>\n",
              "      <th>2</th>\n",
              "      <td>2020</td>\n",
              "      <td>SE</td>\n",
              "      <td>FT</td>\n",
              "      <td>Big Data Engineer</td>\n",
              "      <td>85000</td>\n",
              "      <td>GBP</td>\n",
              "      <td>109024</td>\n",
              "      <td>GB</td>\n",
              "      <td>50</td>\n",
              "      <td>GB</td>\n",
              "      <td>M</td>\n",
              "    </tr>\n",
              "    <tr>\n",
              "      <th>3</th>\n",
              "      <td>2020</td>\n",
              "      <td>MI</td>\n",
              "      <td>FT</td>\n",
              "      <td>Product Data Analyst</td>\n",
              "      <td>20000</td>\n",
              "      <td>USD</td>\n",
              "      <td>20000</td>\n",
              "      <td>HN</td>\n",
              "      <td>0</td>\n",
              "      <td>HN</td>\n",
              "      <td>S</td>\n",
              "    </tr>\n",
              "    <tr>\n",
              "      <th>4</th>\n",
              "      <td>2020</td>\n",
              "      <td>SE</td>\n",
              "      <td>FT</td>\n",
              "      <td>Machine Learning Engineer</td>\n",
              "      <td>150000</td>\n",
              "      <td>USD</td>\n",
              "      <td>150000</td>\n",
              "      <td>US</td>\n",
              "      <td>50</td>\n",
              "      <td>US</td>\n",
              "      <td>L</td>\n",
              "    </tr>\n",
              "  </tbody>\n",
              "</table>\n",
              "</div>\n",
              "      <button class=\"colab-df-convert\" onclick=\"convertToInteractive('df-e9a95e6c-6df2-4622-a2e3-d1bf2f329672')\"\n",
              "              title=\"Convert this dataframe to an interactive table.\"\n",
              "              style=\"display:none;\">\n",
              "        \n",
              "  <svg xmlns=\"http://www.w3.org/2000/svg\" height=\"24px\"viewBox=\"0 0 24 24\"\n",
              "       width=\"24px\">\n",
              "    <path d=\"M0 0h24v24H0V0z\" fill=\"none\"/>\n",
              "    <path d=\"M18.56 5.44l.94 2.06.94-2.06 2.06-.94-2.06-.94-.94-2.06-.94 2.06-2.06.94zm-11 1L8.5 8.5l.94-2.06 2.06-.94-2.06-.94L8.5 2.5l-.94 2.06-2.06.94zm10 10l.94 2.06.94-2.06 2.06-.94-2.06-.94-.94-2.06-.94 2.06-2.06.94z\"/><path d=\"M17.41 7.96l-1.37-1.37c-.4-.4-.92-.59-1.43-.59-.52 0-1.04.2-1.43.59L10.3 9.45l-7.72 7.72c-.78.78-.78 2.05 0 2.83L4 21.41c.39.39.9.59 1.41.59.51 0 1.02-.2 1.41-.59l7.78-7.78 2.81-2.81c.8-.78.8-2.07 0-2.86zM5.41 20L4 18.59l7.72-7.72 1.47 1.35L5.41 20z\"/>\n",
              "  </svg>\n",
              "      </button>\n",
              "      \n",
              "  <style>\n",
              "    .colab-df-container {\n",
              "      display:flex;\n",
              "      flex-wrap:wrap;\n",
              "      gap: 12px;\n",
              "    }\n",
              "\n",
              "    .colab-df-convert {\n",
              "      background-color: #E8F0FE;\n",
              "      border: none;\n",
              "      border-radius: 50%;\n",
              "      cursor: pointer;\n",
              "      display: none;\n",
              "      fill: #1967D2;\n",
              "      height: 32px;\n",
              "      padding: 0 0 0 0;\n",
              "      width: 32px;\n",
              "    }\n",
              "\n",
              "    .colab-df-convert:hover {\n",
              "      background-color: #E2EBFA;\n",
              "      box-shadow: 0px 1px 2px rgba(60, 64, 67, 0.3), 0px 1px 3px 1px rgba(60, 64, 67, 0.15);\n",
              "      fill: #174EA6;\n",
              "    }\n",
              "\n",
              "    [theme=dark] .colab-df-convert {\n",
              "      background-color: #3B4455;\n",
              "      fill: #D2E3FC;\n",
              "    }\n",
              "\n",
              "    [theme=dark] .colab-df-convert:hover {\n",
              "      background-color: #434B5C;\n",
              "      box-shadow: 0px 1px 3px 1px rgba(0, 0, 0, 0.15);\n",
              "      filter: drop-shadow(0px 1px 2px rgba(0, 0, 0, 0.3));\n",
              "      fill: #FFFFFF;\n",
              "    }\n",
              "  </style>\n",
              "\n",
              "      <script>\n",
              "        const buttonEl =\n",
              "          document.querySelector('#df-e9a95e6c-6df2-4622-a2e3-d1bf2f329672 button.colab-df-convert');\n",
              "        buttonEl.style.display =\n",
              "          google.colab.kernel.accessAllowed ? 'block' : 'none';\n",
              "\n",
              "        async function convertToInteractive(key) {\n",
              "          const element = document.querySelector('#df-e9a95e6c-6df2-4622-a2e3-d1bf2f329672');\n",
              "          const dataTable =\n",
              "            await google.colab.kernel.invokeFunction('convertToInteractive',\n",
              "                                                     [key], {});\n",
              "          if (!dataTable) return;\n",
              "\n",
              "          const docLinkHtml = 'Like what you see? Visit the ' +\n",
              "            '<a target=\"_blank\" href=https://colab.research.google.com/notebooks/data_table.ipynb>data table notebook</a>'\n",
              "            + ' to learn more about interactive tables.';\n",
              "          element.innerHTML = '';\n",
              "          dataTable['output_type'] = 'display_data';\n",
              "          await google.colab.output.renderOutput(dataTable, element);\n",
              "          const docLink = document.createElement('div');\n",
              "          docLink.innerHTML = docLinkHtml;\n",
              "          element.appendChild(docLink);\n",
              "        }\n",
              "      </script>\n",
              "    </div>\n",
              "  </div>\n",
              "  "
            ]
          },
          "metadata": {},
          "execution_count": 3
        }
      ],
      "source": [
        "# pandas: manipulação dos dados\n",
        "# seaborn: visualização dos dados\n",
        "# matpltlib: visualização dos dados (também)\n",
        "\n",
        "import pandas as pd\n",
        "import seaborn as sns\n",
        "import matplotlib.pyplot as plt\n",
        "\n",
        "#Importando o dataset em csv que será utilizado\n",
        "\n",
        "salario_ds = pd.read_csv(\"/content/ds_salaries.csv\", encoding=\"ISO-8859-15\")\n",
        "\n",
        "salario_ds.drop(salario_ds.columns[[0]], axis=1, inplace=True) \n",
        "salario_ds.head()"
      ]
    },
    {
      "cell_type": "code",
      "source": [
        "#Personalizando a paleta de cores\n",
        "\n",
        "sns.set(color_codes=True)"
      ],
      "metadata": {
        "id": "QTCZndGfwdDr"
      },
      "execution_count": null,
      "outputs": []
    },
    {
      "cell_type": "markdown",
      "source": [
        "\n",
        "\n",
        "---\n",
        "\n",
        "\n",
        "# **Situação: Em análise**"
      ],
      "metadata": {
        "id": "DDjO0Hd1HkxM"
      }
    },
    {
      "cell_type": "code",
      "source": [
        "#Ordenando a lista\n",
        "\n",
        "experience = salario_ds['experience_level'].sort_values(ascending=True).unique()\n",
        "experience"
      ],
      "metadata": {
        "colab": {
          "base_uri": "https://localhost:8080/"
        },
        "id": "sgiMRAA-ScOV",
        "outputId": "b1bd742c-430a-4466-e392-2aed8b3d5157"
      },
      "execution_count": null,
      "outputs": [
        {
          "output_type": "execute_result",
          "data": {
            "text/plain": [
              "array(['EN', 'EX', 'MI', 'SE'], dtype=object)"
            ]
          },
          "metadata": {},
          "execution_count": 159
        }
      ]
    },
    {
      "cell_type": "markdown",
      "source": [
        "# **Para começarmos a fazer o comparativo salarial, precisamos entender os significados das siglas:**\n",
        "\n",
        "###### **EX** = executivo/diretor;\n",
        "###### **EN** = junior;\n",
        "###### **MI** = pleno;\n",
        "###### **SE** = sênior.:"
      ],
      "metadata": {
        "id": "aWroceTwQRV8"
      }
    },
    {
      "cell_type": "code",
      "source": [
        "#Plotar gráfico box com comparativo salarial por nível de experiência. Definindo a paleta de cores no 'with'\n",
        "with sns.color_palette('Set2'):\n",
        "      sns.catplot(x='experience_level', y='salary_in_usd', kind = 'box', data=salario_ds, order=experience, height=5.8, aspect=1.5)\n",
        "      plt.title(\"Comparativo salarial por nível de experiência\", fontsize=12)\n",
        "      plt.ticklabel_format(axis='y', style='plain')"
      ],
      "metadata": {
        "colab": {
          "base_uri": "https://localhost:8080/",
          "height": 603
        },
        "id": "T9ZUg0sfuJ4T",
        "outputId": "699aade8-8f3f-48ca-b368-451b07877071"
      },
      "execution_count": null,
      "outputs": [
        {
          "output_type": "display_data",
          "data": {
            "text/plain": [
              "<Figure size 870x580 with 1 Axes>"
            ],
            "image/png": "[encoded data removed]"
          },
          "metadata": {}
        }
      ]
    },
    {
      "cell_type": "markdown",
      "source": [
        "# **Podemos observar que os Executivos (EX) em Data Science têm salários superiores em comparação aos demais níveis. No entanto, é notável que profissionais plenos (MI) têm uma variação salarial bem aparente, alguns profissionais recebem salários mais altos do que os outros, chegando a ultrapassar a remuneração dos profissionais sênior (SE).**"
      ],
      "metadata": {
        "id": "LyumiI2QVtU0"
      }
    },
    {
      "cell_type": "markdown",
      "source": [
        "\n",
        "\n",
        "---\n",
        "\n",
        "\n",
        "\n",
        "#**Os tops dos tops!**"
      ],
      "metadata": {
        "id": "AioQtYUnZ4Ue"
      }
    },
    {
      "cell_type": "code",
      "source": [
        "#Plotar gráfico com os 5 cargos com os maiores salários em dólares\n",
        "top_5 = salario_ds.groupby('job_title')['salary_in_usd'].mean().nlargest(5).sort_values(ascending=True).plot(kind='barh', figsize=(10,5), color='#E99675',\n",
        "      title='Top 5 cargos com os salários mais altos em dólares americanos',\n",
        "      y='job_title',\n",
        "      fontsize=(12))"
      ],
      "metadata": {
        "colab": {
          "base_uri": "https://localhost:8080/",
          "height": 476
        },
        "id": "7VmVTM-kwSiq",
        "outputId": "588b14a0-875b-48d4-9a1e-ed91efb6fdd1"
      },
      "execution_count": null,
      "outputs": [
        {
          "output_type": "display_data",
          "data": {
            "text/plain": [
              "<Figure size 1000x500 with 1 Axes>"
            ],
            "image/png": "[encoded data removed]"
          },
          "metadata": {}
        }
      ]
    },
    {
      "cell_type": "markdown",
      "source": [
        "![URL99](https://i0.wp.com/68.media.tumblr.com/caa0219ab5a41d9ff16012e961e3e070/tumblr_inline_o36yhtbcSq1rzl2ff_540.gif?resize=540%2C343&ssl=1)"
      ],
      "metadata": {
        "id": "KrAnrl8aUEmd"
      }
    },
    {
      "cell_type": "markdown",
      "source": [
        "# **Vamos listar esses cargos para melhor análise!**"
      ],
      "metadata": {
        "id": "FhtXdBZOenTd"
      }
    },
    {
      "cell_type": "code",
      "source": [
        "#Listando os cargos do ranking por nível de experiência, localização, cargo e salário\n",
        "top_cargos = salario_ds.loc[(salario_ds['job_title'] == 'Data Analytics Lead') |\n",
        "                            (salario_ds['job_title'] == 'Principal Data Engineer') |\n",
        "                            (salario_ds['job_title'] == 'Financial Data Analyst') |\n",
        "                            (salario_ds['job_title'] == 'Financial Data Science') |\n",
        "                            (salario_ds['job_title'] == 'Director of Data Science')].sort_values(by='salary_in_usd')\n",
        "top_cargos[['experience_level', 'company_location', 'job_title', 'company_size', 'salary_in_usd']]"
      ],
      "metadata": {
        "colab": {
          "base_uri": "https://localhost:8080/",
          "height": 457
        },
        "id": "0RpQwBmmcnzV",
        "outputId": "58f17085-ea8f-46b3-812f-9a9237a0bf62"
      },
      "execution_count": null,
      "outputs": [
        {
          "output_type": "execute_result",
          "data": {
            "text/plain": [
              "    experience_level company_location                 job_title company_size  \\\n",
              "461               EN               US    Financial Data Analyst            L   \n",
              "164               EX               DE  Director of Data Science            M   \n",
              "259               EX               DE  Director of Data Science            L   \n",
              "84                EX               PL  Director of Data Science            L   \n",
              "150               SE               JP  Director of Data Science            S   \n",
              "215               SE               US   Principal Data Engineer            L   \n",
              "452               EX               CA  Director of Data Science            L   \n",
              "121               SE               US   Principal Data Engineer            M   \n",
              "167               EX               US  Director of Data Science            L   \n",
              "25                EX               US  Director of Data Science            L   \n",
              "523               SE               US       Data Analytics Lead            L   \n",
              "97                MI               US    Financial Data Analyst            L   \n",
              "252               EX               US   Principal Data Engineer            L   \n",
              "\n",
              "     salary_in_usd  \n",
              "461         100000  \n",
              "164         130026  \n",
              "259         141846  \n",
              "84          153667  \n",
              "150         168000  \n",
              "215         185000  \n",
              "452         196979  \n",
              "121         200000  \n",
              "167         250000  \n",
              "25          325000  \n",
              "523         405000  \n",
              "97          450000  \n",
              "252         600000  "
            ],
            "text/html": [
              "\n",
              "  <div id=\"df-2e01ff7c-c829-4036-91d8-27b206189fd3\">\n",
              "    <div class=\"colab-df-container\">\n",
              "      <div>\n",
              "<style scoped>\n",
              "    .dataframe tbody tr th:only-of-type {\n",
              "        vertical-align: middle;\n",
              "    }\n",
              "\n",
              "    .dataframe tbody tr th {\n",
              "        vertical-align: top;\n",
              "    }\n",
              "\n",
              "    .dataframe thead th {\n",
              "        text-align: right;\n",
              "    }\n",
              "</style>\n",
              "<table border=\"1\" class=\"dataframe\">\n",
              "  <thead>\n",
              "    <tr style=\"text-align: right;\">\n",
              "      <th></th>\n",
              "      <th>experience_level</th>\n",
              "      <th>company_location</th>\n",
              "      <th>job_title</th>\n",
              "      <th>company_size</th>\n",
              "      <th>salary_in_usd</th>\n",
              "    </tr>\n",
              "  </thead>\n",
              "  <tbody>\n",
              "    <tr>\n",
              "      <th>461</th>\n",
              "      <td>EN</td>\n",
              "      <td>US</td>\n",
              "      <td>Financial Data Analyst</td>\n",
              "      <td>L</td>\n",
              "      <td>100000</td>\n",
              "    </tr>\n",
              "    <tr>\n",
              "      <th>164</th>\n",
              "      <td>EX</td>\n",
              "      <td>DE</td>\n",
              "      <td>Director of Data Science</td>\n",
              "      <td>M</td>\n",
              "      <td>130026</td>\n",
              "    </tr>\n",
              "    <tr>\n",
              "      <th>259</th>\n",
              "      <td>EX</td>\n",
              "      <td>DE</td>\n",
              "      <td>Director of Data Science</td>\n",
              "      <td>L</td>\n",
              "      <td>141846</td>\n",
              "    </tr>\n",
              "    <tr>\n",
              "      <th>84</th>\n",
              "      <td>EX</td>\n",
              "      <td>PL</td>\n",
              "      <td>Director of Data Science</td>\n",
              "      <td>L</td>\n",
              "      <td>153667</td>\n",
              "    </tr>\n",
              "    <tr>\n",
              "      <th>150</th>\n",
              "      <td>SE</td>\n",
              "      <td>JP</td>\n",
              "      <td>Director of Data Science</td>\n",
              "      <td>S</td>\n",
              "      <td>168000</td>\n",
              "    </tr>\n",
              "    <tr>\n",
              "      <th>215</th>\n",
              "      <td>SE</td>\n",
              "      <td>US</td>\n",
              "      <td>Principal Data Engineer</td>\n",
              "      <td>L</td>\n",
              "      <td>185000</td>\n",
              "    </tr>\n",
              "    <tr>\n",
              "      <th>452</th>\n",
              "      <td>EX</td>\n",
              "      <td>CA</td>\n",
              "      <td>Director of Data Science</td>\n",
              "      <td>L</td>\n",
              "      <td>196979</td>\n",
              "    </tr>\n",
              "    <tr>\n",
              "      <th>121</th>\n",
              "      <td>SE</td>\n",
              "      <td>US</td>\n",
              "      <td>Principal Data Engineer</td>\n",
              "      <td>M</td>\n",
              "      <td>200000</td>\n",
              "    </tr>\n",
              "    <tr>\n",
              "      <th>167</th>\n",
              "      <td>EX</td>\n",
              "      <td>US</td>\n",
              "      <td>Director of Data Science</td>\n",
              "      <td>L</td>\n",
              "      <td>250000</td>\n",
              "    </tr>\n",
              "    <tr>\n",
              "      <th>25</th>\n",
              "      <td>EX</td>\n",
              "      <td>US</td>\n",
              "      <td>Director of Data Science</td>\n",
              "      <td>L</td>\n",
              "      <td>325000</td>\n",
              "    </tr>\n",
              "    <tr>\n",
              "      <th>523</th>\n",
              "      <td>SE</td>\n",
              "      <td>US</td>\n",
              "      <td>Data Analytics Lead</td>\n",
              "      <td>L</td>\n",
              "      <td>405000</td>\n",
              "    </tr>\n",
              "    <tr>\n",
              "      <th>97</th>\n",
              "      <td>MI</td>\n",
              "      <td>US</td>\n",
              "      <td>Financial Data Analyst</td>\n",
              "      <td>L</td>\n",
              "      <td>450000</td>\n",
              "    </tr>\n",
              "    <tr>\n",
              "      <th>252</th>\n",
              "      <td>EX</td>\n",
              "      <td>US</td>\n",
              "      <td>Principal Data Engineer</td>\n",
              "      <td>L</td>\n",
              "      <td>600000</td>\n",
              "    </tr>\n",
              "  </tbody>\n",
              "</table>\n",
              "</div>\n",
              "      <button class=\"colab-df-convert\" onclick=\"convertToInteractive('df-2e01ff7c-c829-4036-91d8-27b206189fd3')\"\n",
              "              title=\"Convert this dataframe to an interactive table.\"\n",
              "              style=\"display:none;\">\n",
              "        \n",
              "  <svg xmlns=\"http://www.w3.org/2000/svg\" height=\"24px\"viewBox=\"0 0 24 24\"\n",
              "       width=\"24px\">\n",
              "    <path d=\"M0 0h24v24H0V0z\" fill=\"none\"/>\n",
              "    <path d=\"M18.56 5.44l.94 2.06.94-2.06 2.06-.94-2.06-.94-.94-2.06-.94 2.06-2.06.94zm-11 1L8.5 8.5l.94-2.06 2.06-.94-2.06-.94L8.5 2.5l-.94 2.06-2.06.94zm10 10l.94 2.06.94-2.06 2.06-.94-2.06-.94-.94-2.06-.94 2.06-2.06.94z\"/><path d=\"M17.41 7.96l-1.37-1.37c-.4-.4-.92-.59-1.43-.59-.52 0-1.04.2-1.43.59L10.3 9.45l-7.72 7.72c-.78.78-.78 2.05 0 2.83L4 21.41c.39.39.9.59 1.41.59.51 0 1.02-.2 1.41-.59l7.78-7.78 2.81-2.81c.8-.78.8-2.07 0-2.86zM5.41 20L4 18.59l7.72-7.72 1.47 1.35L5.41 20z\"/>\n",
              "  </svg>\n",
              "      </button>\n",
              "      \n",
              "  <style>\n",
              "    .colab-df-container {\n",
              "      display:flex;\n",
              "      flex-wrap:wrap;\n",
              "      gap: 12px;\n",
              "    }\n",
              "\n",
              "    .colab-df-convert {\n",
              "      background-color: #E8F0FE;\n",
              "      border: none;\n",
              "      border-radius: 50%;\n",
              "      cursor: pointer;\n",
              "      display: none;\n",
              "      fill: #1967D2;\n",
              "      height: 32px;\n",
              "      padding: 0 0 0 0;\n",
              "      width: 32px;\n",
              "    }\n",
              "\n",
              "    .colab-df-convert:hover {\n",
              "      background-color: #E2EBFA;\n",
              "      box-shadow: 0px 1px 2px rgba(60, 64, 67, 0.3), 0px 1px 3px 1px rgba(60, 64, 67, 0.15);\n",
              "      fill: #174EA6;\n",
              "    }\n",
              "\n",
              "    [theme=dark] .colab-df-convert {\n",
              "      background-color: #3B4455;\n",
              "      fill: #D2E3FC;\n",
              "    }\n",
              "\n",
              "    [theme=dark] .colab-df-convert:hover {\n",
              "      background-color: #434B5C;\n",
              "      box-shadow: 0px 1px 3px 1px rgba(0, 0, 0, 0.15);\n",
              "      filter: drop-shadow(0px 1px 2px rgba(0, 0, 0, 0.3));\n",
              "      fill: #FFFFFF;\n",
              "    }\n",
              "  </style>\n",
              "\n",
              "      <script>\n",
              "        const buttonEl =\n",
              "          document.querySelector('#df-2e01ff7c-c829-4036-91d8-27b206189fd3 button.colab-df-convert');\n",
              "        buttonEl.style.display =\n",
              "          google.colab.kernel.accessAllowed ? 'block' : 'none';\n",
              "\n",
              "        async function convertToInteractive(key) {\n",
              "          const element = document.querySelector('#df-2e01ff7c-c829-4036-91d8-27b206189fd3');\n",
              "          const dataTable =\n",
              "            await google.colab.kernel.invokeFunction('convertToInteractive',\n",
              "                                                     [key], {});\n",
              "          if (!dataTable) return;\n",
              "\n",
              "          const docLinkHtml = 'Like what you see? Visit the ' +\n",
              "            '<a target=\"_blank\" href=https://colab.research.google.com/notebooks/data_table.ipynb>data table notebook</a>'\n",
              "            + ' to learn more about interactive tables.';\n",
              "          element.innerHTML = '';\n",
              "          dataTable['output_type'] = 'display_data';\n",
              "          await google.colab.output.renderOutput(dataTable, element);\n",
              "          const docLink = document.createElement('div');\n",
              "          docLink.innerHTML = docLinkHtml;\n",
              "          element.appendChild(docLink);\n",
              "        }\n",
              "      </script>\n",
              "    </div>\n",
              "  </div>\n",
              "  "
            ]
          },
          "metadata": {},
          "execution_count": 4
        }
      ]
    },
    {
      "cell_type": "markdown",
      "source": [
        "# **Apesar de a maioria dos profissionais serem executivos/diretores na área, nota-se a presença de profissionais sênior, alguns ocupando os mesmos cargos de executivos/diretores. Além disso, observa-se uma variação significativa nos salários de Engenheiros de Dados (Principal), que pode variar de 185 mil dólares até 600 mil dólares.**\n",
        "\n",
        "# **Na área de Recursos Humanos, identificamos esses casos ao analisar a estrutura de cargos (grade, target e faixas salariais).**\n",
        "\n",
        "#**É válido também observarmos o tamanho da empresa, percebe-se que a maioria delas são de porte grande (L). Caso tivessemos os dados, poderíamos cruzar o valor das vendas e o número de headcount de cada empresa para obter insights adicionais.**\n",
        "\n"
      ],
      "metadata": {
        "id": "tt2F2s3tf8TW"
      }
    },
    {
      "cell_type": "markdown",
      "source": [
        "![URL99](https://media.tenor.com/PuCebIQYUEMAAAAC/jake-noice.gif)"
      ],
      "metadata": {
        "id": "m_tXpIUKjBJ1"
      }
    },
    {
      "cell_type": "markdown",
      "source": [
        "\n",
        "\n",
        "---\n",
        "\n",
        "\n",
        "\n",
        "# **Calculando a massa salarial**"
      ],
      "metadata": {
        "id": "du1kYl3_lE3-"
      }
    },
    {
      "cell_type": "code",
      "source": [
        "#Listando e somando todos os salários por tamanho da empresa\n",
        "massa_salarial = salario_ds.groupby('company_size')['salary_in_usd'].sum()\n",
        "massa_salarial"
      ],
      "metadata": {
        "colab": {
          "base_uri": "https://localhost:8080/"
        },
        "id": "rJK-JsQRp128",
        "outputId": "c27330b0-3525-4ee8-9db7-3b17e6097705"
      },
      "execution_count": null,
      "outputs": [
        {
          "output_type": "execute_result",
          "data": {
            "text/plain": [
              "company_size\n",
              "L    23610113\n",
              "M    38111182\n",
              "S     6443512\n",
              "Name: salary_in_usd, dtype: int64"
            ]
          },
          "metadata": {},
          "execution_count": 173
        }
      ]
    },
    {
      "cell_type": "markdown",
      "source": [
        "# **Resumidamente, a massa salarial é a soma dos valores pagos aos colaboradores de uma organização. Através desse indicador, podemos identificar o impacto das remunerações para a empresa, bem como sua influência na economia como um todo.**\n",
        "\n",
        "# **Com isso, nota-se que a soma dos salários é maior em empresas de médio porte e em segundo lugar de grande porte.**"
      ],
      "metadata": {
        "id": "68YLOA1jl9Z1"
      }
    },
    {
      "cell_type": "code",
      "source": [
        "#Listando e somando todos os salários por cargo\n",
        "massa_salarial = salario_ds.groupby('job_title')['salary_in_usd'].sum().sort_values(ascending=False)\n",
        "massa_salarial"
      ],
      "metadata": {
        "colab": {
          "base_uri": "https://localhost:8080/"
        },
        "id": "1V7ko2cSpNef",
        "outputId": "7a16e82c-c4cc-4363-94da-5df4eca3f860"
      },
      "execution_count": null,
      "outputs": [
        {
          "output_type": "execute_result",
          "data": {
            "text/plain": [
              "job_title\n",
              "Data Scientist                              15470860\n",
              "Data Engineer                               14879700\n",
              "Data Analyst                                 9010627\n",
              "Machine Learning Engineer                    4300086\n",
              "Data Architect                               1956613\n",
              "Data Science Manager                         1899942\n",
              "Research Scientist                           1744312\n",
              "Principal Data Scientist                     1506697\n",
              "Director of Data Science                     1365518\n",
              "Machine Learning Scientist                   1267300\n",
              "Principal Data Engineer                       985000\n",
              "Data Analytics Manager                        889940\n",
              "Applied Data Scientist                        878275\n",
              "Lead Data Engineer                            838347\n",
              "Head of Data                                  800813\n",
              "ML Engineer                                   705024\n",
              "Analytics Engineer                            700000\n",
              "Data Engineering Manager                      616136\n",
              "Head of Data Science                          586875\n",
              "Applied Machine Learning Scientist            568275\n",
              "Financial Data Analyst                        550000\n",
              "Data Science Consultant                       485945\n",
              "AI Scientist                                  462949\n",
              "BI Data Analyst                               448531\n",
              "Big Data Engineer                             415792\n",
              "Data Analytics Lead                           405000\n",
              "Business Data Analyst                         383456\n",
              "Lead Data Scientist                           345570\n",
              "Computer Vision Software Engineer             315746\n",
              "Director of Data Engineering                  313476\n",
              "Machine Learning Infrastructure Engineer      303435\n",
              "Lead Data Analyst                             276609\n",
              "Computer Vision Engineer                      266516\n",
              "Data Analytics Engineer                       259197\n",
              "Machine Learning Developer                    257582\n",
              "Cloud Data Engineer                           249294\n",
              "Principal Data Analyst                        245000\n",
              "Data Science Engineer                         227410\n",
              "Data Specialist                               165000\n",
              "Machine Learning Manager                      117104\n",
              "ETL Developer                                 109914\n",
              "Staff Data Scientist                          105000\n",
              "Big Data Architect                             99703\n",
              "Marketing Data Analyst                         88654\n",
              "Lead Machine Learning Engineer                 87932\n",
              "Head of Machine Learning                       79039\n",
              "Finance Data Analyst                           61896\n",
              "NLP Engineer                                   37236\n",
              "Product Data Analyst                           26072\n",
              "3D Computer Vision Researcher                   5409\n",
              "Name: salary_in_usd, dtype: int64"
            ]
          },
          "metadata": {},
          "execution_count": 176
        }
      ]
    },
    {
      "cell_type": "markdown",
      "source": [
        "# **Observamos que a soma de salários pagos é maior para Cientistas de Dados e em seguida, com uma soma próxima, temos os Engenheiros de Dados. Concluímos um número elevado de contratação desses profissionais e uma alta demanda de procura.**\n",
        "# **Em uma matéria da Época Negócios em 2021, afirma-se que as startups investiram mais de US$ 20 bilhões em inteligência artificial.**\n",
        "# **Além disso, ressaltam que os profissionais de Data Analytics, Data Engineer e Data Science foram os mais recrutados pelas empresas de inteligência de dados ao longo da pandemia, em um crescimento de cerca de 485% em comparação ao mesmo semestre de 2020, segundo levantamento da Intera. Por outro lado, sem dúvidas, ainda há muitos espaços para serem ocupados.**\n"
      ],
      "metadata": {
        "id": "jBdBusfoqEcG"
      }
    },
    {
      "cell_type": "markdown",
      "source": [
        "![99URL](https://media.tenor.com/lmGqPV3Qo6AAAAAC/brooklyn-nine-nine-jake-peralta.gif)\n",
        "\n"
      ],
      "metadata": {
        "id": "thvxxi9ItEFg"
      }
    },
    {
      "cell_type": "markdown",
      "source": [
        "\n",
        "\n",
        "---\n",
        "\n",
        "\n",
        "\n",
        "# **Análise salarial por ano**"
      ],
      "metadata": {
        "id": "IXSu_82ftgzQ"
      }
    },
    {
      "cell_type": "code",
      "source": [
        "#Plotar gráfico de barras com média salarial por ano\n",
        "with sns.color_palette('Set2'):\n",
        "      sns.catplot(x='work_year', y='salary_in_usd', kind = 'bar', data=salario_ds, height=5.8, aspect=1.5)\n",
        "      plt.title(\"Salário por ano de trabalho\", fontsize=12)\n",
        "      plt.ticklabel_format(axis='y', style='plain')"
      ],
      "metadata": {
        "colab": {
          "base_uri": "https://localhost:8080/",
          "height": 603
        },
        "id": "ob1pJgvO0OpT",
        "outputId": "2dc1542f-df7b-4f5e-bb47-051ac0ae76c2"
      },
      "execution_count": null,
      "outputs": [
        {
          "output_type": "display_data",
          "data": {
            "text/plain": [
              "<Figure size 870x580 with 1 Axes>"
            ],
            "image/png": "[encoded data removed]"
          },
          "metadata": {}
        }
      ]
    },
    {
      "cell_type": "markdown",
      "source": [
        "# **O valor de investimento das empresas em profissionais da área de Ciência de Dados aumento consideravelmente em 2022, foram mais de 20 mil doláres acima da média do que no ano anterior.**"
      ],
      "metadata": {
        "id": "VUvnc6jPvcQi"
      }
    },
    {
      "cell_type": "code",
      "source": [
        "#Filtrando o maior e o menor salário no ano de 2022\n",
        "salario_anual = salario_ds[salario_ds['work_year'] == 2022]\n",
        "maior_salario = salario_anual['salary_in_usd'].max()\n",
        "menor_salario = salario_anual['salary_in_usd'].min()\n",
        "\n",
        "maior_registro = salario_anual[salario_anual['salary_in_usd'] == maior_salario]\n",
        "menor_registro = salario_anual[salario_anual['salary_in_usd'] == menor_salario]\n",
        "\n",
        "print(maior_registro[['job_title', 'company_location', 'work_year', 'salary_in_usd']])\n",
        "print(menor_registro[['job_title', 'company_location', 'work_year', 'salary_in_usd']])\n"
      ],
      "metadata": {
        "colab": {
          "base_uri": "https://localhost:8080/"
        },
        "id": "Sq-E_CP1wioW",
        "outputId": "e0f48dd9-41e2-43ca-8578-4aa71b4b091a"
      },
      "execution_count": null,
      "outputs": [
        {
          "output_type": "stream",
          "name": "stdout",
          "text": [
            "               job_title company_location  work_year  salary_in_usd\n",
            "523  Data Analytics Lead               US       2022         405000\n",
            "                    job_title company_location  work_year  salary_in_usd\n",
            "521  Computer Vision Engineer               LU       2022          10000\n"
          ]
        }
      ]
    },
    {
      "cell_type": "markdown",
      "source": [
        "# **O maior salário registrado em 2022 foi para a posição de Líder de Análise de Dados nos Estados Unidos, enquanto o menor salário foi para a posição de Engenheiros de Visão Computacional em Luxemburgo.**"
      ],
      "metadata": {
        "id": "pmVPH7ji2Q8w"
      }
    },
    {
      "cell_type": "markdown",
      "source": [
        "\n",
        "\n",
        "---\n",
        "\n",
        "\n",
        "# **Data Science x Home Offuce**"
      ],
      "metadata": {
        "id": "jDGDd69r4U95"
      }
    },
    {
      "cell_type": "code",
      "source": [
        "#Plotar gráfico de distribuição de home office por país de residência\n",
        "remoto_media = salario_ds.groupby('employee_residence')['remote_ratio'].mean().plot(kind='bar', figsize=(30,5), color='#72B6A1',\n",
        "      title='Distribuição de emprego remoto por país de residência',\n",
        "      y='employee_residence',\n",
        "      fontsize=(12))"
      ],
      "metadata": {
        "colab": {
          "base_uri": "https://localhost:8080/",
          "height": 367
        },
        "id": "UHyfEck-CGa6",
        "outputId": "495e843b-8fb8-40e1-b5ce-d7d484c05814"
      },
      "execution_count": null,
      "outputs": [
        {
          "output_type": "display_data",
          "data": {
            "text/plain": [
              "<Figure size 3000x500 with 1 Axes>"
            ],
            "image/png": "[encoded data removed]"
          },
          "metadata": {}
        }
      ]
    },
    {
      "cell_type": "code",
      "source": [
        "#Listando países com a maior proporção de home office\n",
        "top_paises = salario_ds.loc[salario_ds['remote_ratio'] > 60].groupby('employee_residence')['remote_ratio'].mean()\n",
        "top_paises"
      ],
      "metadata": {
        "colab": {
          "base_uri": "https://localhost:8080/"
        },
        "id": "_XcUMaCcWpRZ",
        "outputId": "1b96dc62-9463-4455-e6cc-5200b955f06b"
      },
      "execution_count": null,
      "outputs": [
        {
          "output_type": "execute_result",
          "data": {
            "text/plain": [
              "employee_residence\n",
              "AE    100.0\n",
              "AR    100.0\n",
              "AU    100.0\n",
              "BE    100.0\n",
              "BG    100.0\n",
              "BO    100.0\n",
              "BR    100.0\n",
              "CA    100.0\n",
              "CL    100.0\n",
              "DE    100.0\n",
              "EE    100.0\n",
              "ES    100.0\n",
              "FR    100.0\n",
              "GB    100.0\n",
              "GR    100.0\n",
              "HR    100.0\n",
              "IE    100.0\n",
              "IN    100.0\n",
              "IR    100.0\n",
              "IT    100.0\n",
              "JP    100.0\n",
              "KE    100.0\n",
              "LU    100.0\n",
              "MY    100.0\n",
              "NG    100.0\n",
              "NL    100.0\n",
              "PH    100.0\n",
              "PK    100.0\n",
              "PL    100.0\n",
              "PT    100.0\n",
              "RS    100.0\n",
              "RU    100.0\n",
              "SG    100.0\n",
              "SI    100.0\n",
              "TN    100.0\n",
              "TR    100.0\n",
              "UA    100.0\n",
              "US    100.0\n",
              "VN    100.0\n",
              "Name: remote_ratio, dtype: float64"
            ]
          },
          "metadata": {},
          "execution_count": 151
        }
      ]
    },
    {
      "cell_type": "markdown",
      "source": [
        "# **É evidente que a maioria das empresas que empregam profissionais da área de Ciência de Dados adotaram o modelo de trabalho remoto. Isso indica que as oportunidades também são ampliadas para profissionais estrangeiros, que podem trabalhar de suas próprias residências.**\n",
        "\n",
        "# **Em uma matéria publicada no O Globo (Época), revela que em Portugal a pandemia fez o setor digital deslanchar. Mas logo as empresas detectaram falha no sistema: não havia mão de obra suficiente. Os formados na área de TI anualmente não chegariam a 2 mil, 10% da demanda. Dessa forma, começaram a contratar mais brasileiros para assumir os cargos de tecnologia.**"
      ],
      "metadata": {
        "id": "h3VWXvb45vkE"
      }
    },
    {
      "cell_type": "code",
      "source": [
        "#Listando e calculando a média salarial por proporção de trabalho remoto\n",
        "media_salarial = salario_ds.groupby('remote_ratio')['salary_in_usd'].mean().round(2)\n",
        "media_salarial"
      ],
      "metadata": {
        "colab": {
          "base_uri": "https://localhost:8080/"
        },
        "id": "0fxU8_2NUZU5",
        "outputId": "8ce9ecbb-2ea0-4cba-f532-417b4c103040"
      },
      "execution_count": null,
      "outputs": [
        {
          "output_type": "execute_result",
          "data": {
            "text/plain": [
              "remote_ratio\n",
              "0      106354.62\n",
              "50      80823.03\n",
              "100    122457.45\n",
              "Name: salary_in_usd, dtype: float64"
            ]
          },
          "metadata": {},
          "execution_count": 81
        }
      ]
    },
    {
      "cell_type": "markdown",
      "source": [
        "###### **0** = presencial;\n",
        "###### **50** = híbrido;\n",
        "###### **100** = remoto.\n",
        "\n",
        "# **Apesar de estar bem próximo ao modelo presencial, se comparado com as demais proporções, os profissionais que trabalham no modelo remoto ganham mais.**"
      ],
      "metadata": {
        "id": "Qk5kG1k07hU_"
      }
    },
    {
      "cell_type": "markdown",
      "source": [
        "![URL99](https://telltaletv.com/wp-content/uploads/2018/08/tumblr_ojcrkoPnnu1uls29go2_640.gif)\n"
      ],
      "metadata": {
        "id": "Vebab4uC8yZq"
      }
    },
    {
      "cell_type": "markdown",
      "source": [
        "\n",
        "\n",
        "---\n",
        "\n",
        "\n",
        "\n",
        "# **O momento que estavámos esperando: conversão de USD para BRL!**"
      ],
      "metadata": {
        "id": "MNBtGcN-874o"
      }
    },
    {
      "cell_type": "code",
      "source": [
        "#Listando e calculando a conversão da moeda de USD para BRL (considerado o valor do dólar no momento da publicação deste notebook)\n",
        "moeda = salario_ds['salary_in_usd'].apply(lambda x: x * 4,9943)\n",
        "salario_ds['salary_in_brl'] = moeda.astype(float).round()\n",
        "salario_ds = salario_ds.sort_values('salary_in_brl', ascending=True)\n",
        "salario_ds[['work_year', 'job_title', 'company_location', 'salary_currency', 'salary_in_usd', 'salary_in_brl']]"
      ],
      "metadata": {
        "colab": {
          "base_uri": "https://localhost:8080/",
          "height": 424
        },
        "id": "anJzTXhzjAZk",
        "outputId": "8e98d96e-715d-4593-ec38-536ebb412f69"
      },
      "execution_count": null,
      "outputs": [
        {
          "output_type": "execute_result",
          "data": {
            "text/plain": [
              "     work_year                           job_title company_location  \\\n",
              "176       2021                      Data Scientist               MX   \n",
              "185       2021                       Data Engineer               IR   \n",
              "238       2021                      Data Scientist               VN   \n",
              "77        2021       3D Computer Vision Researcher               IN   \n",
              "179       2021                      Data Scientist               US   \n",
              "..         ...                                 ...              ...   \n",
              "225       2021            Principal Data Scientist               US   \n",
              "157       2021  Applied Machine Learning Scientist               US   \n",
              "33        2020                  Research Scientist               US   \n",
              "97        2021              Financial Data Analyst               US   \n",
              "252       2021             Principal Data Engineer               US   \n",
              "\n",
              "    salary_currency  salary_in_usd  salary_in_brl  \n",
              "176             MXN           2859        11436.0  \n",
              "185             USD           4000        16000.0  \n",
              "238             USD           4000        16000.0  \n",
              "77              INR           5409        21636.0  \n",
              "179             INR           5679        22716.0  \n",
              "..              ...            ...            ...  \n",
              "225             USD         416000      1664000.0  \n",
              "157             USD         423000      1692000.0  \n",
              "33              USD         450000      1800000.0  \n",
              "97              USD         450000      1800000.0  \n",
              "252             USD         600000      2400000.0  \n",
              "\n",
              "[607 rows x 6 columns]"
            ],
            "text/html": [
              "\n",
              "  <div id=\"df-cd538ab5-e61c-4c92-b380-49e05db3a10a\">\n",
              "    <div class=\"colab-df-container\">\n",
              "      <div>\n",
              "<style scoped>\n",
              "    .dataframe tbody tr th:only-of-type {\n",
              "        vertical-align: middle;\n",
              "    }\n",
              "\n",
              "    .dataframe tbody tr th {\n",
              "        vertical-align: top;\n",
              "    }\n",
              "\n",
              "    .dataframe thead th {\n",
              "        text-align: right;\n",
              "    }\n",
              "</style>\n",
              "<table border=\"1\" class=\"dataframe\">\n",
              "  <thead>\n",
              "    <tr style=\"text-align: right;\">\n",
              "      <th></th>\n",
              "      <th>work_year</th>\n",
              "      <th>job_title</th>\n",
              "      <th>company_location</th>\n",
              "      <th>salary_currency</th>\n",
              "      <th>salary_in_usd</th>\n",
              "      <th>salary_in_brl</th>\n",
              "    </tr>\n",
              "  </thead>\n",
              "  <tbody>\n",
              "    <tr>\n",
              "      <th>176</th>\n",
              "      <td>2021</td>\n",
              "      <td>Data Scientist</td>\n",
              "      <td>MX</td>\n",
              "      <td>MXN</td>\n",
              "      <td>2859</td>\n",
              "      <td>11436.0</td>\n",
              "    </tr>\n",
              "    <tr>\n",
              "      <th>185</th>\n",
              "      <td>2021</td>\n",
              "      <td>Data Engineer</td>\n",
              "      <td>IR</td>\n",
              "      <td>USD</td>\n",
              "      <td>4000</td>\n",
              "      <td>16000.0</td>\n",
              "    </tr>\n",
              "    <tr>\n",
              "      <th>238</th>\n",
              "      <td>2021</td>\n",
              "      <td>Data Scientist</td>\n",
              "      <td>VN</td>\n",
              "      <td>USD</td>\n",
              "      <td>4000</td>\n",
              "      <td>16000.0</td>\n",
              "    </tr>\n",
              "    <tr>\n",
              "      <th>77</th>\n",
              "      <td>2021</td>\n",
              "      <td>3D Computer Vision Researcher</td>\n",
              "      <td>IN</td>\n",
              "      <td>INR</td>\n",
              "      <td>5409</td>\n",
              "      <td>21636.0</td>\n",
              "    </tr>\n",
              "    <tr>\n",
              "      <th>179</th>\n",
              "      <td>2021</td>\n",
              "      <td>Data Scientist</td>\n",
              "      <td>US</td>\n",
              "      <td>INR</td>\n",
              "      <td>5679</td>\n",
              "      <td>22716.0</td>\n",
              "    </tr>\n",
              "    <tr>\n",
              "      <th>...</th>\n",
              "      <td>...</td>\n",
              "      <td>...</td>\n",
              "      <td>...</td>\n",
              "      <td>...</td>\n",
              "      <td>...</td>\n",
              "      <td>...</td>\n",
              "    </tr>\n",
              "    <tr>\n",
              "      <th>225</th>\n",
              "      <td>2021</td>\n",
              "      <td>Principal Data Scientist</td>\n",
              "      <td>US</td>\n",
              "      <td>USD</td>\n",
              "      <td>416000</td>\n",
              "      <td>1664000.0</td>\n",
              "    </tr>\n",
              "    <tr>\n",
              "      <th>157</th>\n",
              "      <td>2021</td>\n",
              "      <td>Applied Machine Learning Scientist</td>\n",
              "      <td>US</td>\n",
              "      <td>USD</td>\n",
              "      <td>423000</td>\n",
              "      <td>1692000.0</td>\n",
              "    </tr>\n",
              "    <tr>\n",
              "      <th>33</th>\n",
              "      <td>2020</td>\n",
              "      <td>Research Scientist</td>\n",
              "      <td>US</td>\n",
              "      <td>USD</td>\n",
              "      <td>450000</td>\n",
              "      <td>1800000.0</td>\n",
              "    </tr>\n",
              "    <tr>\n",
              "      <th>97</th>\n",
              "      <td>2021</td>\n",
              "      <td>Financial Data Analyst</td>\n",
              "      <td>US</td>\n",
              "      <td>USD</td>\n",
              "      <td>450000</td>\n",
              "      <td>1800000.0</td>\n",
              "    </tr>\n",
              "    <tr>\n",
              "      <th>252</th>\n",
              "      <td>2021</td>\n",
              "      <td>Principal Data Engineer</td>\n",
              "      <td>US</td>\n",
              "      <td>USD</td>\n",
              "      <td>600000</td>\n",
              "      <td>2400000.0</td>\n",
              "    </tr>\n",
              "  </tbody>\n",
              "</table>\n",
              "<p>607 rows × 6 columns</p>\n",
              "</div>\n",
              "      <button class=\"colab-df-convert\" onclick=\"convertToInteractive('df-cd538ab5-e61c-4c92-b380-49e05db3a10a')\"\n",
              "              title=\"Convert this dataframe to an interactive table.\"\n",
              "              style=\"display:none;\">\n",
              "        \n",
              "  <svg xmlns=\"http://www.w3.org/2000/svg\" height=\"24px\"viewBox=\"0 0 24 24\"\n",
              "       width=\"24px\">\n",
              "    <path d=\"M0 0h24v24H0V0z\" fill=\"none\"/>\n",
              "    <path d=\"M18.56 5.44l.94 2.06.94-2.06 2.06-.94-2.06-.94-.94-2.06-.94 2.06-2.06.94zm-11 1L8.5 8.5l.94-2.06 2.06-.94-2.06-.94L8.5 2.5l-.94 2.06-2.06.94zm10 10l.94 2.06.94-2.06 2.06-.94-2.06-.94-.94-2.06-.94 2.06-2.06.94z\"/><path d=\"M17.41 7.96l-1.37-1.37c-.4-.4-.92-.59-1.43-.59-.52 0-1.04.2-1.43.59L10.3 9.45l-7.72 7.72c-.78.78-.78 2.05 0 2.83L4 21.41c.39.39.9.59 1.41.59.51 0 1.02-.2 1.41-.59l7.78-7.78 2.81-2.81c.8-.78.8-2.07 0-2.86zM5.41 20L4 18.59l7.72-7.72 1.47 1.35L5.41 20z\"/>\n",
              "  </svg>\n",
              "      </button>\n",
              "      \n",
              "  <style>\n",
              "    .colab-df-container {\n",
              "      display:flex;\n",
              "      flex-wrap:wrap;\n",
              "      gap: 12px;\n",
              "    }\n",
              "\n",
              "    .colab-df-convert {\n",
              "      background-color: #E8F0FE;\n",
              "      border: none;\n",
              "      border-radius: 50%;\n",
              "      cursor: pointer;\n",
              "      display: none;\n",
              "      fill: #1967D2;\n",
              "      height: 32px;\n",
              "      padding: 0 0 0 0;\n",
              "      width: 32px;\n",
              "    }\n",
              "\n",
              "    .colab-df-convert:hover {\n",
              "      background-color: #E2EBFA;\n",
              "      box-shadow: 0px 1px 2px rgba(60, 64, 67, 0.3), 0px 1px 3px 1px rgba(60, 64, 67, 0.15);\n",
              "      fill: #174EA6;\n",
              "    }\n",
              "\n",
              "    [theme=dark] .colab-df-convert {\n",
              "      background-color: #3B4455;\n",
              "      fill: #D2E3FC;\n",
              "    }\n",
              "\n",
              "    [theme=dark] .colab-df-convert:hover {\n",
              "      background-color: #434B5C;\n",
              "      box-shadow: 0px 1px 3px 1px rgba(0, 0, 0, 0.15);\n",
              "      filter: drop-shadow(0px 1px 2px rgba(0, 0, 0, 0.3));\n",
              "      fill: #FFFFFF;\n",
              "    }\n",
              "  </style>\n",
              "\n",
              "      <script>\n",
              "        const buttonEl =\n",
              "          document.querySelector('#df-cd538ab5-e61c-4c92-b380-49e05db3a10a button.colab-df-convert');\n",
              "        buttonEl.style.display =\n",
              "          google.colab.kernel.accessAllowed ? 'block' : 'none';\n",
              "\n",
              "        async function convertToInteractive(key) {\n",
              "          const element = document.querySelector('#df-cd538ab5-e61c-4c92-b380-49e05db3a10a');\n",
              "          const dataTable =\n",
              "            await google.colab.kernel.invokeFunction('convertToInteractive',\n",
              "                                                     [key], {});\n",
              "          if (!dataTable) return;\n",
              "\n",
              "          const docLinkHtml = 'Like what you see? Visit the ' +\n",
              "            '<a target=\"_blank\" href=https://colab.research.google.com/notebooks/data_table.ipynb>data table notebook</a>'\n",
              "            + ' to learn more about interactive tables.';\n",
              "          element.innerHTML = '';\n",
              "          dataTable['output_type'] = 'display_data';\n",
              "          await google.colab.output.renderOutput(dataTable, element);\n",
              "          const docLink = document.createElement('div');\n",
              "          docLink.innerHTML = docLinkHtml;\n",
              "          element.appendChild(docLink);\n",
              "        }\n",
              "      </script>\n",
              "    </div>\n",
              "  </div>\n",
              "  "
            ]
          },
          "metadata": {},
          "execution_count": 7
        }
      ]
    },
    {
      "cell_type": "markdown",
      "source": [
        "# **Se você estiver interessado em trabalhar para países estrangeiros, existe a possibilidade de receber até aproximadamente 2,4 milhões de reais (pouquinha coisa)!**\n",
        "\n",
        "# **Ao analisar a lista acima, podemos ver que o maior salário pago foi registrado em 2021 nos Estados Unidos para o cargo de Engenheiro de Dados (Principal).**"
      ],
      "metadata": {
        "id": "9ze0EBJc9hF3"
      }
    },
    {
      "cell_type": "markdown",
      "source": [
        "\n",
        "\n",
        "---\n",
        "\n",
        "\n",
        "# **Ao infinito e além!**"
      ],
      "metadata": {
        "id": "KlgNB0wU_GJf"
      }
    },
    {
      "cell_type": "markdown",
      "source": [
        "![99URL](https://i.pinimg.com/originals/b6/5f/65/b65f659239e5e5ff8f1826755f234e86.gif)"
      ],
      "metadata": {
        "id": "d3xocAOL1xDT"
      }
    },
    {
      "cell_type": "markdown",
      "source": [
        "# **A área de Data Science está experimentando um crescimento significativo, com uma alta demanda por Data Scientists e Data Engineers, impulsionada pelo aumento do investimento em inteligência de dados. Além disso, o modelo de trabalho remoto apresenta oportunidades atraentes para os profissionais da área, pois as empresas estrangeiras reconhecem o potencial de recrutamento no Brasil. É interessante notar que profissionais plenos e sênior têm a possibilidade de receber boas remunerações, mesmo não ocupando posições executivas ou de diretoria.**"
      ],
      "metadata": {
        "id": "v1Mapaxy_OxX"
      }
    }
  ]
}